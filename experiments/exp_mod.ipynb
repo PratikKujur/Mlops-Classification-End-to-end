{
 "cells": [
  {
   "cell_type": "code",
   "execution_count": 20,
   "metadata": {},
   "outputs": [],
   "source": [
    "import yaml\n",
    "import pandas as pd\n",
    "import os\n",
    "import logging\n",
    "from imblearn.over_sampling import SMOTE"
   ]
  },
  {
   "cell_type": "code",
   "execution_count": 13,
   "metadata": {},
   "outputs": [
    {
     "data": {
      "text/plain": [
       "'/Users/pratik.kujur/Desktop/Projects/Mlops-Classification-End-to-end/experiments'"
      ]
     },
     "execution_count": 13,
     "metadata": {},
     "output_type": "execute_result"
    }
   ],
   "source": [
    "%pwd"
   ]
  },
  {
   "cell_type": "code",
   "execution_count": 14,
   "metadata": {},
   "outputs": [
    {
     "data": {
      "text/plain": [
       "'/Users/pratik.kujur/Desktop/Projects/Mlops-Classification-End-to-end'"
      ]
     },
     "execution_count": 14,
     "metadata": {},
     "output_type": "execute_result"
    }
   ],
   "source": [
    "os.chdir(\"../\")\n",
    "%pwd"
   ]
  },
  {
   "cell_type": "code",
   "execution_count": 9,
   "metadata": {},
   "outputs": [],
   "source": [
    "params_preprocess=yaml.safe_load(open(\"/Users/pratik.kujur/Desktop/Projects/Mlops-Classification-End-to-end/params.yaml\"))['preprocess']"
   ]
  },
  {
   "cell_type": "code",
   "execution_count": 19,
   "metadata": {},
   "outputs": [],
   "source": [
    "logging.basicConfig(level=logging.INFO, format='[%(asctime)s]: %(message)s:')"
   ]
  },
  {
   "cell_type": "code",
   "execution_count": 28,
   "metadata": {},
   "outputs": [],
   "source": [
    "class DataPreprocessing:\n",
    "    def __init__ (self,InputPath,OutputPath,XsmPath,ysmPath):\n",
    "        self.input_path=InputPath\n",
    "        self.output_path=OutputPath\n",
    "        self.Xsm_path=XsmPath\n",
    "        self.ysm_path=ysmPath\n",
    "\n",
    "    def savefiles(self,file,path):\n",
    "        os.makedirs(os.path.dirname(path),exist_ok=True)\n",
    "        file.to_csv(path,index=False,header=True)\n",
    "\n",
    "    def DataPreprocess(self):\n",
    "        try:\n",
    "            df=pd.read_csv(self.input_path)\n",
    "            df.drop(columns=['id','Unnamed: 32'],inplace=True,axis=\"columns\")\n",
    "            df['diagnosis']=df['diagnosis'].map({'M':0,'B':1})\n",
    "            self.savefiles(df,self.output_path)\n",
    "            \n",
    "            #feature and target split\n",
    "            y=df.iloc[:,0:1]\n",
    "            X=df.iloc[:,1:]\n",
    "\n",
    "            #handling data imbalance\n",
    "            class_balancer=SMOTE()\n",
    "            X_sm,y_sm=class_balancer.fit_resample(X,y)\n",
    "            self.savefiles(X_sm,self.Xsm_path)\n",
    "            self.savefiles(y_sm,self.ysm_path)\n",
    "\n",
    "\n",
    "            logging.info(\"Data preprocessed successfully.\")\n",
    "\n",
    "            \n",
    "        except Exception as e:\n",
    "            logging.exception(\"Exception occurred: %s\", str(e))\n",
    "            raise e"
   ]
  },
  {
   "cell_type": "code",
   "execution_count": 29,
   "metadata": {},
   "outputs": [],
   "source": [
    "DataIngestion=DataPreprocessing(params_preprocess['input'],params_preprocess['output'],params_preprocess['X_sm'],params_preprocess['y_sm'])\n",
    "DataIngestion.DataPreprocess()"
   ]
  },
  {
   "cell_type": "code",
   "execution_count": null,
   "metadata": {},
   "outputs": [],
   "source": []
  }
 ],
 "metadata": {
  "kernelspec": {
   "display_name": ".venv",
   "language": "python",
   "name": "python3"
  },
  "language_info": {
   "codemirror_mode": {
    "name": "ipython",
    "version": 3
   },
   "file_extension": ".py",
   "mimetype": "text/x-python",
   "name": "python",
   "nbconvert_exporter": "python",
   "pygments_lexer": "ipython3",
   "version": "3.10.0"
  }
 },
 "nbformat": 4,
 "nbformat_minor": 2
}
