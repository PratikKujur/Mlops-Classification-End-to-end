{
 "cells": [
  {
   "cell_type": "code",
   "execution_count": 32,
   "metadata": {},
   "outputs": [],
   "source": [
    "import yaml\n",
    "import pandas as pd\n",
    "import os\n",
    "import logging\n",
    "from imblearn.over_sampling import SMOTE\n",
    "import pandas as pd\n",
    "import matplotlib.pyplot as plt\n",
    "from sklearn.ensemble import RandomForestClassifier\n",
    "from sklearn.model_selection import train_test_split\n",
    "import pickle"
   ]
  },
  {
   "cell_type": "code",
   "execution_count": 13,
   "metadata": {},
   "outputs": [
    {
     "data": {
      "text/plain": [
       "'/Users/pratik.kujur/Desktop/Projects/Mlops-Classification-End-to-end/experiments'"
      ]
     },
     "execution_count": 13,
     "metadata": {},
     "output_type": "execute_result"
    }
   ],
   "source": [
    "%pwd"
   ]
  },
  {
   "cell_type": "code",
   "execution_count": 14,
   "metadata": {},
   "outputs": [
    {
     "data": {
      "text/plain": [
       "'/Users/pratik.kujur/Desktop/Projects/Mlops-Classification-End-to-end'"
      ]
     },
     "execution_count": 14,
     "metadata": {},
     "output_type": "execute_result"
    }
   ],
   "source": [
    "os.chdir(\"../\")\n",
    "%pwd"
   ]
  },
  {
   "cell_type": "code",
   "execution_count": 9,
   "metadata": {},
   "outputs": [],
   "source": [
    "params_preprocess=yaml.safe_load(open(\"/Users/pratik.kujur/Desktop/Projects/Mlops-Classification-End-to-end/params.yaml\"))['preprocess']"
   ]
  },
  {
   "cell_type": "code",
   "execution_count": 19,
   "metadata": {},
   "outputs": [],
   "source": [
    "logging.basicConfig(level=logging.INFO, format='[%(asctime)s]: %(message)s:')"
   ]
  },
  {
   "cell_type": "code",
   "execution_count": 28,
   "metadata": {},
   "outputs": [],
   "source": [
    "class DataPreprocessing:\n",
    "    def __init__ (self,InputPath,OutputPath,XsmPath,ysmPath):\n",
    "        self.input_path=InputPath\n",
    "        self.output_path=OutputPath\n",
    "        self.Xsm_path=XsmPath\n",
    "        self.ysm_path=ysmPath\n",
    "\n",
    "    def savefiles(self,file,path):\n",
    "        os.makedirs(os.path.dirname(path),exist_ok=True)\n",
    "        file.to_csv(path,index=False,header=True)\n",
    "\n",
    "    def DataPreprocess(self):\n",
    "        try:\n",
    "            df=pd.read_csv(self.input_path)\n",
    "            df.drop(columns=['id','Unnamed: 32'],inplace=True,axis=\"columns\")\n",
    "            df['diagnosis']=df['diagnosis'].map({'M':0,'B':1})\n",
    "            self.savefiles(df,self.output_path)\n",
    "            \n",
    "            #feature and target split\n",
    "            y=df.iloc[:,0:1]\n",
    "            X=df.iloc[:,1:]\n",
    "\n",
    "            #handling data imbalance\n",
    "            class_balancer=SMOTE()\n",
    "            X_sm,y_sm=class_balancer.fit_resample(X,y)\n",
    "            self.savefiles(X_sm,self.Xsm_path)\n",
    "            self.savefiles(y_sm,self.ysm_path)\n",
    "\n",
    "\n",
    "            logging.info(\"Data preprocessed successfully.\")\n",
    "\n",
    "            \n",
    "        except Exception as e:\n",
    "            logging.exception(\"Exception occurred: %s\", str(e))\n",
    "            raise e"
   ]
  },
  {
   "cell_type": "code",
   "execution_count": 29,
   "metadata": {},
   "outputs": [],
   "source": [
    "DataIngestion=DataPreprocessing(params_preprocess['input'],params_preprocess['output'],params_preprocess['X_sm'],params_preprocess['y_sm'])\n",
    "DataIngestion.DataPreprocess()"
   ]
  },
  {
   "cell_type": "code",
   "execution_count": 40,
   "metadata": {},
   "outputs": [],
   "source": [
    "params_trainer=yaml.safe_load(open(\"/Users/pratik.kujur/Desktop/Projects/Mlops-Classification-End-to-end/params.yaml\"))['train']\n",
    "params_eval=yaml.safe_load(open(\"/Users/pratik.kujur/Desktop/Projects/Mlops-Classification-End-to-end/params.yaml\"))['evaluation']\n",
    "params_model=yaml.safe_load(open(\"/Users/pratik.kujur/Desktop/Projects/Mlops-Classification-End-to-end/params.yaml\"))"
   ]
  },
  {
   "cell_type": "code",
   "execution_count": 56,
   "metadata": {},
   "outputs": [],
   "source": [
    "class ModelTrainer:\n",
    "    def __init__ (self,X,Y,X_train,y_train,X_test,y_test,model_path):\n",
    "        self.X=X\n",
    "        self.y=Y\n",
    "        self.X_train_path=X_train\n",
    "        self.y_train_path=y_train\n",
    "        self.y_test_path=y_test\n",
    "        self.X_test_path=X_test\n",
    "        self.ModelPath=model_path\n",
    "        \n",
    "\n",
    "    def savefiles(self,file,path):\n",
    "        os.makedirs(os.path.dirname(path),exist_ok=True)\n",
    "        file.to_csv(path,index=False,header=True)\n",
    "\n",
    "    def model_trainer(self,X,y,ModelPath):\n",
    "        clf=RandomForestClassifier(criterion='entropy',max_features='sqrt')\n",
    "        clf.fit(X,y)\n",
    "        os.makedirs(os.path.dirname(ModelPath),exist_ok=True)\n",
    "        pickle.dump(clf,open(ModelPath,'wb'))\n",
    "\n",
    "\n",
    "    def StartTraining(self):\n",
    "        try:\n",
    "            X=pd.read_csv(self.X)\n",
    "            y=pd.read_csv(self.y)\n",
    "\n",
    "            X_train, X_test, y_train, y_test=train_test_split(X,y,random_state=42,test_size=0.2)\n",
    "\n",
    "            saving_files=[\n",
    "                           (X_train,self.X_train_path),\n",
    "                           (X_test,self.y_train_path), \n",
    "                           (y_train,self.y_test_path), \n",
    "                           (y_test,self.X_test_path)\n",
    "                        ]\n",
    "            for file,path in (saving_files):\n",
    "                self.savefiles(file,path)\n",
    "            logging.info(\"Data Splited and Saved successfully.\")\n",
    "\n",
    "            self.model_trainer(X_train,y_train,self.ModelPath)\n",
    "            logging.info(\"Model Trained and Saved successfully.\")\n",
    "\n",
    "\n",
    "\n",
    "\n",
    "            \n",
    "        except Exception as e:\n",
    "            logging.exception(\"Exception occurred: %s\", str(e))\n",
    "            raise e"
   ]
  },
  {
   "cell_type": "code",
   "execution_count": 57,
   "metadata": {},
   "outputs": [
    {
     "name": "stderr",
     "output_type": "stream",
     "text": [
      "/Users/pratik.kujur/Desktop/Projects/Mlops-Classification-End-to-end/.venv/lib/python3.10/site-packages/sklearn/base.py:1389: DataConversionWarning: A column-vector y was passed when a 1d array was expected. Please change the shape of y to (n_samples,), for example using ravel().\n",
      "  return fit_method(estimator, *args, **kwargs)\n"
     ]
    }
   ],
   "source": [
    "ModelTraining=ModelTrainer(params_preprocess['X_sm'],params_preprocess['y_sm'],\n",
    "                           params_trainer['X_train'],params_trainer['y_train'],\n",
    "                           params_eval['X_test'],params_eval['y_test'],\n",
    "                           params_model['model'])\n",
    "ModelTraining.StartTraining()"
   ]
  },
  {
   "cell_type": "code",
   "execution_count": null,
   "metadata": {},
   "outputs": [],
   "source": []
  }
 ],
 "metadata": {
  "kernelspec": {
   "display_name": ".venv",
   "language": "python",
   "name": "python3"
  },
  "language_info": {
   "codemirror_mode": {
    "name": "ipython",
    "version": 3
   },
   "file_extension": ".py",
   "mimetype": "text/x-python",
   "name": "python",
   "nbconvert_exporter": "python",
   "pygments_lexer": "ipython3",
   "version": "3.10.0"
  }
 },
 "nbformat": 4,
 "nbformat_minor": 2
}
